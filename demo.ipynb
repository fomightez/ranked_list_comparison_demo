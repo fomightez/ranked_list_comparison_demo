{
 "cells": [
  {
   "cell_type": "markdown",
   "metadata": {},
   "source": [
    "Demonstrating my function to compare ranked lists\n",
    "-------------\n",
    "\n",
    "A notebook to demonstrate [a function for comparing ranked lists](https://github.com/fomightez/text_mining), called `function to generate accounting of positions in two ranked lists.py`.\n",
    "\n",
    "\n",
    "\n",
    "Provided input files:  \n",
    "   Two similar, ranked list of yeast genes:\n",
    "\n",
    "   * original_ranked_list.txt\n",
    "\n",
    "   * similar_gene_list.txt\n",
    "\n",
    "All other code is foud in the notebook.\n",
    "    \n",
    "------\n"
   ]
  },
  {
   "cell_type": "code",
   "execution_count": null,
   "metadata": {},
   "outputs": [],
   "source": []
  }
 ],
 "metadata": {
  "kernelspec": {
   "display_name": "Python 3",
   "language": "python",
   "name": "python3"
  },
  "language_info": {
   "codemirror_mode": {
    "name": "ipython",
    "version": 3
   },
   "file_extension": ".py",
   "mimetype": "text/x-python",
   "name": "python",
   "nbconvert_exporter": "python",
   "pygments_lexer": "ipython3",
   "version": "3.6.4"
  }
 },
 "nbformat": 4,
 "nbformat_minor": 2
}
